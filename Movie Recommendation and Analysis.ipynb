{
 "cells": [
  {
   "cell_type": "code",
   "execution_count": 1,
   "id": "0c6d2e3a",
   "metadata": {},
   "outputs": [],
   "source": [
    "# lets import the basic libraries\n",
    "import numpy as np\n",
    "import pandas as pd\n",
    "\n",
    "# for data visualization\n",
    "import matplotlib.pyplot as plt\n",
    "import seaborn as sns\n",
    "import plotly.express as px\n",
    "\n",
    "# for jupyter notebook widgets\n",
    "import ipywidgets as widgets\n",
    "from ipywidgets import interact\n",
    "from ipywidgets import interact_manual\n",
    "\n",
    "# for interactive shells\n",
    "from IPython.display import display\n",
    "\n",
    "# supress warnings\n",
    "import warnings\n",
    "warnings.filterwarnings('ignore')\n",
    "\n",
    "# setting upt the chart size and background\n",
    "plt.rcParams['figure.figsize'] = (16, 5)\n",
    "plt.style.use('fivethirtyeight')"
   ]
  },
  {
   "cell_type": "code",
   "execution_count": null,
   "id": "2813cd89",
   "metadata": {},
   "outputs": [],
   "source": []
  },
  {
   "cell_type": "code",
   "execution_count": 2,
   "id": "c45e893c",
   "metadata": {},
   "outputs": [],
   "source": [
    "# lets read the dataset\n",
    "data = pd.read_csv('movie_metadata.csv')"
   ]
  },
  {
   "cell_type": "code",
   "execution_count": 3,
   "id": "9bf25d84",
   "metadata": {},
   "outputs": [
    {
     "name": "stdout",
     "output_type": "stream",
     "text": [
      "(5043, 28)\n"
     ]
    }
   ],
   "source": [
    "# lets check the shape\n",
    "print(data.shape)"
   ]
  },
  {
   "cell_type": "code",
   "execution_count": 4,
   "id": "0c6f11c4",
   "metadata": {},
   "outputs": [
    {
     "name": "stdout",
     "output_type": "stream",
     "text": [
      "<class 'pandas.core.frame.DataFrame'>\n",
      "RangeIndex: 5043 entries, 0 to 5042\n",
      "Data columns (total 28 columns):\n",
      " #   Column                     Non-Null Count  Dtype  \n",
      "---  ------                     --------------  -----  \n",
      " 0   color                      5024 non-null   object \n",
      " 1   director_name              4939 non-null   object \n",
      " 2   num_critic_for_reviews     4993 non-null   float64\n",
      " 3   duration                   5028 non-null   float64\n",
      " 4   director_facebook_likes    4939 non-null   float64\n",
      " 5   actor_3_facebook_likes     5020 non-null   float64\n",
      " 6   actor_2_name               5030 non-null   object \n",
      " 7   actor_1_facebook_likes     5036 non-null   float64\n",
      " 8   gross                      4159 non-null   float64\n",
      " 9   genres                     5043 non-null   object \n",
      " 10  actor_1_name               5036 non-null   object \n",
      " 11  movie_title                5043 non-null   object \n",
      " 12  num_voted_users            5043 non-null   int64  \n",
      " 13  cast_total_facebook_likes  5043 non-null   int64  \n",
      " 14  actor_3_name               5020 non-null   object \n",
      " 15  facenumber_in_poster       5030 non-null   float64\n",
      " 16  plot_keywords              4890 non-null   object \n",
      " 17  movie_imdb_link            5043 non-null   object \n",
      " 18  num_user_for_reviews       5022 non-null   float64\n",
      " 19  language                   5031 non-null   object \n",
      " 20  country                    5038 non-null   object \n",
      " 21  content_rating             4740 non-null   object \n",
      " 22  budget                     4551 non-null   float64\n",
      " 23  title_year                 4935 non-null   float64\n",
      " 24  actor_2_facebook_likes     5030 non-null   float64\n",
      " 25  imdb_score                 5043 non-null   float64\n",
      " 26  aspect_ratio               4714 non-null   float64\n",
      " 27  movie_facebook_likes       5043 non-null   int64  \n",
      "dtypes: float64(13), int64(3), object(12)\n",
      "memory usage: 1.1+ MB\n"
     ]
    }
   ],
   "source": [
    "# lets check the column wise info\n",
    "data.info()"
   ]
  },
  {
   "cell_type": "code",
   "execution_count": 6,
   "id": "d40edbee",
   "metadata": {},
   "outputs": [
    {
     "data": {
      "text/plain": [
       "Index(['director_name', 'num_critic_for_reviews', 'duration', 'actor_2_name',\n",
       "       'gross', 'genres', 'actor_1_name', 'movie_title', 'num_voted_users',\n",
       "       'actor_3_name', 'num_user_for_reviews', 'language', 'budget',\n",
       "       'title_year', 'imdb_score', 'movie_facebook_likes'],\n",
       "      dtype='object')"
      ]
     },
     "execution_count": 6,
     "metadata": {},
     "output_type": "execute_result"
    }
   ],
   "source": [
    "# lets remove unnecessary columns from the dataset\n",
    "\n",
    "# Use the 'drop()' function to drop the unnecessary columns\n",
    "\n",
    "data = data.drop(['color',\n",
    "                  'director_facebook_likes',\n",
    "                  'actor_3_facebook_likes',\n",
    "                  'actor_1_facebook_likes',\n",
    "                  'cast_total_facebook_likes',\n",
    "                  'actor_2_facebook_likes',\n",
    "                  'facenumber_in_poster',\n",
    "                  'content_rating',\n",
    "                  'country',\n",
    "                  'movie_imdb_link',\n",
    "                  'aspect_ratio',\n",
    "                  'plot_keywords'],\n",
    "                   axis = 1)\n",
    "data.columns"
   ]
  },
  {
   "cell_type": "code",
   "execution_count": 7,
   "id": "50142266",
   "metadata": {},
   "outputs": [
    {
     "data": {
      "text/plain": [
       "director_name              2.06\n",
       "num_critic_for_reviews     0.99\n",
       "duration                   0.30\n",
       "actor_2_name               0.26\n",
       "gross                     17.53\n",
       "genres                     0.00\n",
       "actor_1_name               0.14\n",
       "movie_title                0.00\n",
       "num_voted_users            0.00\n",
       "actor_3_name               0.46\n",
       "num_user_for_reviews       0.42\n",
       "language                   0.24\n",
       "budget                     9.76\n",
       "title_year                 2.14\n",
       "imdb_score                 0.00\n",
       "movie_facebook_likes       0.00\n",
       "dtype: float64"
      ]
     },
     "execution_count": 7,
     "metadata": {},
     "output_type": "execute_result"
    }
   ],
   "source": [
    "# lets check the rows having high percentage of missing values in the dataset\n",
    "\n",
    "round(100*(data.isnull().sum()/len(data.index)), 2)"
   ]
  },
  {
   "cell_type": "code",
   "execution_count": 8,
   "id": "f7c12433",
   "metadata": {},
   "outputs": [],
   "source": [
    "# since 'gross' and 'budget' columns have large number of NaN values, drop all the rows with NaNs at this column using the \n",
    "# 'isnan' function of NumPy alongwith a negation '~'\n",
    "\n",
    "data = data[~np.isnan(data['gross'])]\n",
    "data = data[~np.isnan(data['budget'])]"
   ]
  },
  {
   "cell_type": "code",
   "execution_count": 9,
   "id": "0da1a508",
   "metadata": {},
   "outputs": [
    {
     "data": {
      "text/plain": [
       "director_name              0\n",
       "num_critic_for_reviews     1\n",
       "duration                   1\n",
       "actor_2_name               5\n",
       "gross                      0\n",
       "genres                     0\n",
       "actor_1_name               3\n",
       "movie_title                0\n",
       "num_voted_users            0\n",
       "actor_3_name              10\n",
       "num_user_for_reviews       0\n",
       "language                   3\n",
       "budget                     0\n",
       "title_year                 0\n",
       "imdb_score                 0\n",
       "movie_facebook_likes       0\n",
       "dtype: int64"
      ]
     },
     "execution_count": 9,
     "metadata": {},
     "output_type": "execute_result"
    }
   ],
   "source": [
    "# Now lets agin check the Missing Values column wise\n",
    "\n",
    "data.isnull().sum()"
   ]
  },
  {
   "cell_type": "code",
   "execution_count": 10,
   "id": "ead1c10d",
   "metadata": {},
   "outputs": [
    {
     "data": {
      "text/plain": [
       "director_name             0\n",
       "num_critic_for_reviews    1\n",
       "duration                  1\n",
       "actor_2_name              2\n",
       "gross                     0\n",
       "genres                    0\n",
       "actor_1_name              0\n",
       "movie_title               0\n",
       "num_voted_users           0\n",
       "actor_3_name              7\n",
       "num_user_for_reviews      0\n",
       "language                  3\n",
       "budget                    0\n",
       "title_year                0\n",
       "imdb_score                0\n",
       "movie_facebook_likes      0\n",
       "dtype: int64"
      ]
     },
     "execution_count": 10,
     "metadata": {},
     "output_type": "execute_result"
    }
   ],
   "source": [
    "# The rows for which the sum of Null is less than two are retained\n",
    "\n",
    "data = data[data.isnull().sum(axis=1) <= 2]\n",
    "data.isnull().sum()"
   ]
  },
  {
   "cell_type": "code",
   "execution_count": 11,
   "id": "a48d242e",
   "metadata": {},
   "outputs": [
    {
     "data": {
      "text/plain": [
       "0"
      ]
     },
     "execution_count": 11,
     "metadata": {},
     "output_type": "execute_result"
    }
   ],
   "source": [
    "# Lets impute the missing values\n",
    "\n",
    "# using mean for numerical columns \n",
    "data['num_critic_for_reviews'].fillna(data['num_critic_for_reviews'].mean(), inplace = True)\n",
    "data['duration'].fillna(data['duration'].mean(), inplace = True)\n",
    "\n",
    "# using mode for categorical column\n",
    "data['language'].fillna(data['language'].mode()[0], inplace = True)\n",
    "\n",
    "# As we know that we cannot use statistical values for imputing the missing values of actor names, so we will replace the \n",
    "# actor names with \"Unknown Actor\"\n",
    "\n",
    "data['actor_2_name'].fillna('Unknown Actor', inplace = True)\n",
    "data['actor_3_name'].fillna('Unknown Actor', inplace = True)\n",
    "\n",
    "# as we imputed all the missing values lets check the no. of total missing values in the dataset\n",
    "data.isnull().sum().sum()"
   ]
  },
  {
   "cell_type": "code",
   "execution_count": 12,
   "id": "5a372d9b",
   "metadata": {},
   "outputs": [],
   "source": [
    "# Lets convert the gross and budget from $ to Million $ to make our analysis easier\n",
    "\n",
    "data['gross'] = data['gross']/1000000\n",
    "data['budget'] = data['budget']/1000000"
   ]
  },
  {
   "cell_type": "code",
   "execution_count": 13,
   "id": "307918d4",
   "metadata": {},
   "outputs": [],
   "source": [
    "# Lets create a profit column using the Budget and Gross\n",
    "\n",
    "data['profit'] = data['gross'] - data['budget']"
   ]
  },
  {
   "cell_type": "code",
   "execution_count": 14,
   "id": "adcc91be",
   "metadata": {},
   "outputs": [
    {
     "data": {
      "text/html": [
       "<div>\n",
       "<style scoped>\n",
       "    .dataframe tbody tr th:only-of-type {\n",
       "        vertical-align: middle;\n",
       "    }\n",
       "\n",
       "    .dataframe tbody tr th {\n",
       "        vertical-align: top;\n",
       "    }\n",
       "\n",
       "    .dataframe thead th {\n",
       "        text-align: right;\n",
       "    }\n",
       "</style>\n",
       "<table border=\"1\" class=\"dataframe\">\n",
       "  <thead>\n",
       "    <tr style=\"text-align: right;\">\n",
       "      <th></th>\n",
       "      <th>profit</th>\n",
       "      <th>movie_title</th>\n",
       "    </tr>\n",
       "  </thead>\n",
       "  <tbody>\n",
       "    <tr>\n",
       "      <th>0</th>\n",
       "      <td>523.505847</td>\n",
       "      <td>Avatar</td>\n",
       "    </tr>\n",
       "    <tr>\n",
       "      <th>29</th>\n",
       "      <td>502.177271</td>\n",
       "      <td>Jurassic World</td>\n",
       "    </tr>\n",
       "    <tr>\n",
       "      <th>26</th>\n",
       "      <td>458.672302</td>\n",
       "      <td>Titanic</td>\n",
       "    </tr>\n",
       "    <tr>\n",
       "      <th>3024</th>\n",
       "      <td>449.935665</td>\n",
       "      <td>Star Wars: Episode IV - A New Hope</td>\n",
       "    </tr>\n",
       "    <tr>\n",
       "      <th>3080</th>\n",
       "      <td>424.449459</td>\n",
       "      <td>E.T. the Extra-Terrestrial</td>\n",
       "    </tr>\n",
       "    <tr>\n",
       "      <th>794</th>\n",
       "      <td>403.279547</td>\n",
       "      <td>The Avengers</td>\n",
       "    </tr>\n",
       "    <tr>\n",
       "      <th>17</th>\n",
       "      <td>403.279547</td>\n",
       "      <td>The Avengers</td>\n",
       "    </tr>\n",
       "    <tr>\n",
       "      <th>509</th>\n",
       "      <td>377.783777</td>\n",
       "      <td>The Lion King</td>\n",
       "    </tr>\n",
       "    <tr>\n",
       "      <th>240</th>\n",
       "      <td>359.544677</td>\n",
       "      <td>Star Wars: Episode I - The Phantom Menace</td>\n",
       "    </tr>\n",
       "    <tr>\n",
       "      <th>66</th>\n",
       "      <td>348.316061</td>\n",
       "      <td>The Dark Knight</td>\n",
       "    </tr>\n",
       "  </tbody>\n",
       "</table>\n",
       "</div>"
      ],
      "text/plain": [
       "          profit                                 movie_title\n",
       "0     523.505847                                     Avatar \n",
       "29    502.177271                             Jurassic World \n",
       "26    458.672302                                    Titanic \n",
       "3024  449.935665         Star Wars: Episode IV - A New Hope \n",
       "3080  424.449459                 E.T. the Extra-Terrestrial \n",
       "794   403.279547                               The Avengers \n",
       "17    403.279547                               The Avengers \n",
       "509   377.783777                              The Lion King \n",
       "240   359.544677  Star Wars: Episode I - The Phantom Menace \n",
       "66    348.316061                            The Dark Knight "
      ]
     },
     "execution_count": 14,
     "metadata": {},
     "output_type": "execute_result"
    }
   ],
   "source": [
    "# Lets also check the name of top 10 Profitabel Movie\n",
    "\n",
    "data[['profit','movie_title']].sort_values(by = 'profit', ascending = False).head(10)"
   ]
  },
  {
   "cell_type": "code",
   "execution_count": 15,
   "id": "d32906a2",
   "metadata": {},
   "outputs": [
    {
     "name": "stdout",
     "output_type": "stream",
     "text": [
      "No. of Rows Before Removing Duplicates:  3888\n",
      "No. of Rows After Removing Duplictes:  3853\n"
     ]
    }
   ],
   "source": [
    "# By lokking at the above result we can easily analyze that there are some duplicate\n",
    "\n",
    "# Lets print the no. of rows before removing Duplicates\n",
    "print(\"No. of Rows Before Removing Duplicates: \",data.shape[0])\n",
    "\n",
    "# So lets remove all the duplicates from the data\n",
    "data.drop_duplicates(subset = None, keep = 'first', inplace = True)\n",
    "\n",
    "# Lets print the no. rows ofter removing Duplicates\n",
    "print(\"No. of Rows After Removing Duplictes: \",data.shape[0])"
   ]
  },
  {
   "cell_type": "code",
   "execution_count": 16,
   "id": "e4187431",
   "metadata": {},
   "outputs": [
    {
     "data": {
      "text/html": [
       "<div>\n",
       "<style scoped>\n",
       "    .dataframe tbody tr th:only-of-type {\n",
       "        vertical-align: middle;\n",
       "    }\n",
       "\n",
       "    .dataframe tbody tr th {\n",
       "        vertical-align: top;\n",
       "    }\n",
       "\n",
       "    .dataframe thead th {\n",
       "        text-align: right;\n",
       "    }\n",
       "</style>\n",
       "<table border=\"1\" class=\"dataframe\">\n",
       "  <thead>\n",
       "    <tr style=\"text-align: right;\">\n",
       "      <th></th>\n",
       "      <th>movie_title</th>\n",
       "      <th>profit</th>\n",
       "    </tr>\n",
       "  </thead>\n",
       "  <tbody>\n",
       "    <tr>\n",
       "      <th>0</th>\n",
       "      <td>Avatar</td>\n",
       "      <td>523.505847</td>\n",
       "    </tr>\n",
       "    <tr>\n",
       "      <th>29</th>\n",
       "      <td>Jurassic World</td>\n",
       "      <td>502.177271</td>\n",
       "    </tr>\n",
       "    <tr>\n",
       "      <th>26</th>\n",
       "      <td>Titanic</td>\n",
       "      <td>458.672302</td>\n",
       "    </tr>\n",
       "    <tr>\n",
       "      <th>3024</th>\n",
       "      <td>Star Wars: Episode IV - A New Hope</td>\n",
       "      <td>449.935665</td>\n",
       "    </tr>\n",
       "    <tr>\n",
       "      <th>3080</th>\n",
       "      <td>E.T. the Extra-Terrestrial</td>\n",
       "      <td>424.449459</td>\n",
       "    </tr>\n",
       "    <tr>\n",
       "      <th>17</th>\n",
       "      <td>The Avengers</td>\n",
       "      <td>403.279547</td>\n",
       "    </tr>\n",
       "    <tr>\n",
       "      <th>509</th>\n",
       "      <td>The Lion King</td>\n",
       "      <td>377.783777</td>\n",
       "    </tr>\n",
       "    <tr>\n",
       "      <th>240</th>\n",
       "      <td>Star Wars: Episode I - The Phantom Menace</td>\n",
       "      <td>359.544677</td>\n",
       "    </tr>\n",
       "    <tr>\n",
       "      <th>66</th>\n",
       "      <td>The Dark Knight</td>\n",
       "      <td>348.316061</td>\n",
       "    </tr>\n",
       "    <tr>\n",
       "      <th>439</th>\n",
       "      <td>The Hunger Games</td>\n",
       "      <td>329.999255</td>\n",
       "    </tr>\n",
       "  </tbody>\n",
       "</table>\n",
       "</div>"
      ],
      "text/plain": [
       "                                     movie_title      profit\n",
       "0                                        Avatar   523.505847\n",
       "29                               Jurassic World   502.177271\n",
       "26                                      Titanic   458.672302\n",
       "3024         Star Wars: Episode IV - A New Hope   449.935665\n",
       "3080                 E.T. the Extra-Terrestrial   424.449459\n",
       "17                                 The Avengers   403.279547\n",
       "509                               The Lion King   377.783777\n",
       "240   Star Wars: Episode I - The Phantom Menace   359.544677\n",
       "66                              The Dark Knight   348.316061\n",
       "439                            The Hunger Games   329.999255"
      ]
     },
     "execution_count": 16,
     "metadata": {},
     "output_type": "execute_result"
    }
   ],
   "source": [
    "# Lets also check the name of top 10 Profitabel Movie\n",
    "\n",
    "data[['movie_title','profit']].sort_values(by = 'profit', ascending = False).head(10)"
   ]
  },
  {
   "cell_type": "code",
   "execution_count": 17,
   "id": "180ebbd8",
   "metadata": {},
   "outputs": [
    {
     "data": {
      "text/plain": [
       "English       3673\n",
       "French          37\n",
       "Spanish         26\n",
       "Mandarin        14\n",
       "German          13\n",
       "Japanese        12\n",
       "Hindi           10\n",
       "Cantonese        8\n",
       "Italian          7\n",
       "Korean           5\n",
       "Portuguese       5\n",
       "Norwegian        4\n",
       "Thai             3\n",
       "Danish           3\n",
       "Hebrew           3\n",
       "Dutch            3\n",
       "Persian          3\n",
       "Dari             2\n",
       "Aboriginal       2\n",
       "Indonesian       2\n",
       "Hungarian        1\n",
       "Zulu             1\n",
       "Mongolian        1\n",
       "Bosnian          1\n",
       "Kazakh           1\n",
       "Telugu           1\n",
       "Romanian         1\n",
       "Dzongkha         1\n",
       "Swedish          1\n",
       "Czech            1\n",
       "None             1\n",
       "Arabic           1\n",
       "Russian          1\n",
       "Vietnamese       1\n",
       "Filipino         1\n",
       "Aramaic          1\n",
       "Icelandic        1\n",
       "Maya             1\n",
       "Name: language, dtype: int64"
      ]
     },
     "execution_count": 17,
     "metadata": {},
     "output_type": "execute_result"
    }
   ],
   "source": [
    "# Lets check the values in the language column\n",
    "\n",
    "data['language'].value_counts()"
   ]
  },
  {
   "cell_type": "code",
   "execution_count": 18,
   "id": "8c2942d2",
   "metadata": {},
   "outputs": [
    {
     "data": {
      "text/plain": [
       "English    3673\n",
       "Foreign     180\n",
       "Name: language, dtype: int64"
      ]
     },
     "execution_count": 18,
     "metadata": {},
     "output_type": "execute_result"
    }
   ],
   "source": [
    "# Looking at the above output we can easily observe that out of 3,500 movies only 150 movies are of other language\n",
    "\n",
    "# So it is better to keep only two languages that is English and foreign\n",
    "def language(x):\n",
    "    if x == 'English':\n",
    "        return 'English'\n",
    "    else:\n",
    "        return 'Foreign'\n",
    "    \n",
    "# Lets apply the function on the language column\n",
    "data['language'] = data['language'].apply(language)\n",
    "    \n",
    "# Lets check the values again\n",
    "data['language'].value_counts()"
   ]
  },
  {
   "cell_type": "code",
   "execution_count": 19,
   "id": "be29dbae",
   "metadata": {},
   "outputs": [
    {
     "data": {
      "text/plain": [
       "101.0    113\n",
       "100.0    109\n",
       "98.0     105\n",
       "99.0      97\n",
       "90.0      97\n",
       "        ... \n",
       "216.0      1\n",
       "240.0      1\n",
       "65.0       1\n",
       "45.0       1\n",
       "225.0      1\n",
       "Name: duration, Length: 157, dtype: int64"
      ]
     },
     "execution_count": 19,
     "metadata": {},
     "output_type": "execute_result"
    }
   ],
   "source": [
    "data['duration'].value_counts()"
   ]
  },
  {
   "cell_type": "code",
   "execution_count": 20,
   "id": "1d53e0ae",
   "metadata": {},
   "outputs": [
    {
     "data": {
      "text/plain": [
       "short    2936\n",
       "long      917\n",
       "Name: duration, dtype: int64"
      ]
     },
     "execution_count": 20,
     "metadata": {},
     "output_type": "execute_result"
    }
   ],
   "source": [
    "# The duration of movies is not varrying a lot but we know that most of the users either like watching long movies or short\n",
    "# duration movies. we can categories that movie in two part i.e short and long\n",
    "\n",
    "# Lets define a function for categorizing duration of movies\n",
    "def duration(x):\n",
    "    if x <= 120:\n",
    "        return 'short'\n",
    "    else:\n",
    "        return 'long'\n",
    "\n",
    "# Lets apply this function on the durtion column \n",
    "data['duration'] = data['duration'].apply(duration)\n",
    "\n",
    "# Lets check the value of duration column\n",
    "data['duration'].value_counts()"
   ]
  },
  {
   "cell_type": "code",
   "execution_count": 21,
   "id": "ae630400",
   "metadata": {},
   "outputs": [
    {
     "data": {
      "text/plain": [
       "Drama                                              153\n",
       "Comedy|Drama|Romance                               151\n",
       "Comedy|Drama                                       147\n",
       "Comedy                                             145\n",
       "Comedy|Romance                                     135\n",
       "                                                  ... \n",
       "Comedy|Romance|Sci-Fi|Thriller                       1\n",
       "Action|Adventure|Family|Fantasy|Sci-Fi|Thriller      1\n",
       "Adventure|Comedy|Drama|Music                         1\n",
       "Action|Drama|Fantasy|Mystery|Sci-Fi|Thriller         1\n",
       "Adventure|Comedy|Horror                              1\n",
       "Name: genres, Length: 762, dtype: int64"
      ]
     },
     "execution_count": 21,
     "metadata": {},
     "output_type": "execute_result"
    }
   ],
   "source": [
    "# Lets also check the values in the genres column\n",
    "\n",
    "data['genres'].value_counts()"
   ]
  },
  {
   "cell_type": "code",
   "execution_count": 22,
   "id": "9fc30ace",
   "metadata": {},
   "outputs": [
    {
     "data": {
      "text/plain": [
       "['Action', 'Adventure', 'Fantasy', 'Sci-Fi']"
      ]
     },
     "execution_count": 22,
     "metadata": {},
     "output_type": "execute_result"
    }
   ],
   "source": [
    "data['genres'].str.split('|')[0]"
   ]
  },
  {
   "cell_type": "code",
   "execution_count": 24,
   "id": "a7b43ea7",
   "metadata": {},
   "outputs": [
    {
     "data": {
      "text/html": [
       "<div>\n",
       "<style scoped>\n",
       "    .dataframe tbody tr th:only-of-type {\n",
       "        vertical-align: middle;\n",
       "    }\n",
       "\n",
       "    .dataframe tbody tr th {\n",
       "        vertical-align: top;\n",
       "    }\n",
       "\n",
       "    .dataframe thead th {\n",
       "        text-align: right;\n",
       "    }\n",
       "</style>\n",
       "<table border=\"1\" class=\"dataframe\">\n",
       "  <thead>\n",
       "    <tr style=\"text-align: right;\">\n",
       "      <th></th>\n",
       "      <th>genres</th>\n",
       "      <th>Genre1</th>\n",
       "      <th>Genre2</th>\n",
       "      <th>Genre3</th>\n",
       "      <th>Genre4</th>\n",
       "    </tr>\n",
       "  </thead>\n",
       "  <tbody>\n",
       "    <tr>\n",
       "      <th>0</th>\n",
       "      <td>Action|Adventure|Fantasy|Sci-Fi</td>\n",
       "      <td>Action</td>\n",
       "      <td>Adventure</td>\n",
       "      <td>Fantasy</td>\n",
       "      <td>Sci-Fi</td>\n",
       "    </tr>\n",
       "    <tr>\n",
       "      <th>1</th>\n",
       "      <td>Action|Adventure|Fantasy</td>\n",
       "      <td>Action</td>\n",
       "      <td>Adventure</td>\n",
       "      <td>Fantasy</td>\n",
       "      <td>Action</td>\n",
       "    </tr>\n",
       "    <tr>\n",
       "      <th>2</th>\n",
       "      <td>Action|Adventure|Thriller</td>\n",
       "      <td>Action</td>\n",
       "      <td>Adventure</td>\n",
       "      <td>Thriller</td>\n",
       "      <td>Action</td>\n",
       "    </tr>\n",
       "    <tr>\n",
       "      <th>3</th>\n",
       "      <td>Action|Thriller</td>\n",
       "      <td>Action</td>\n",
       "      <td>Thriller</td>\n",
       "      <td>Action</td>\n",
       "      <td>Action</td>\n",
       "    </tr>\n",
       "    <tr>\n",
       "      <th>5</th>\n",
       "      <td>Action|Adventure|Sci-Fi</td>\n",
       "      <td>Action</td>\n",
       "      <td>Adventure</td>\n",
       "      <td>Sci-Fi</td>\n",
       "      <td>Action</td>\n",
       "    </tr>\n",
       "  </tbody>\n",
       "</table>\n",
       "</div>"
      ],
      "text/plain": [
       "                            genres  Genre1     Genre2    Genre3  Genre4\n",
       "0  Action|Adventure|Fantasy|Sci-Fi  Action  Adventure   Fantasy  Sci-Fi\n",
       "1         Action|Adventure|Fantasy  Action  Adventure   Fantasy  Action\n",
       "2        Action|Adventure|Thriller  Action  Adventure  Thriller  Action\n",
       "3                  Action|Thriller  Action   Thriller    Action  Action\n",
       "5          Action|Adventure|Sci-Fi  Action  Adventure    Sci-Fi  Action"
      ]
     },
     "execution_count": 24,
     "metadata": {},
     "output_type": "execute_result"
    }
   ],
   "source": [
    "# So we can see from the above output that most of the movies are having a lot of genres\n",
    "# also, a movie can have so many genres so lets keep four genres\n",
    "\n",
    "data['Moviegenres'] = data['genres'].str.split('|')\n",
    "data['Genre1'] = data['Moviegenres'].apply(lambda x: x[0])\n",
    "\n",
    "# some of the movies have only one genre. In such cases, assign the same genre to 'genre_2' as well\n",
    "data['Genre2'] = data['Moviegenres'].apply(lambda x: x[1] if len(x) > 1 else x[0])\n",
    "data['Genre3'] = data['Moviegenres'].apply(lambda x: x[2] if len(x) > 2 else x[0])\n",
    "data['Genre4'] = data['Moviegenres'].apply(lambda x: x[3] if len(x) > 3 else x[0])\n",
    "\n",
    "# Lets check the head of the data\n",
    "data[['genres','Genre1','Genre2','Genre3','Genre4']].head(5)\n"
   ]
  },
  {
   "cell_type": "code",
   "execution_count": null,
   "id": "cdd8819e",
   "metadata": {},
   "outputs": [],
   "source": []
  }
 ],
 "metadata": {
  "kernelspec": {
   "display_name": "Python 3",
   "language": "python",
   "name": "python3"
  },
  "language_info": {
   "codemirror_mode": {
    "name": "ipython",
    "version": 3
   },
   "file_extension": ".py",
   "mimetype": "text/x-python",
   "name": "python",
   "nbconvert_exporter": "python",
   "pygments_lexer": "ipython3",
   "version": "3.6.8"
  }
 },
 "nbformat": 4,
 "nbformat_minor": 5
}
